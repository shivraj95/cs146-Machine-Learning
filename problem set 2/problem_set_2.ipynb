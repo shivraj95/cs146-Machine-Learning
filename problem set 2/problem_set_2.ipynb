{
 "cells": [
  {
   "cell_type": "code",
   "execution_count": 95,
   "metadata": {
    "collapsed": false
   },
   "outputs": [],
   "source": [
    "\"\"\"\n",
    "Author      : Yi-Chieh Wu, Sriram Sankararaman\n",
    "\"\"\"\n",
    "\n",
    "# This code was adapted from course material by Jenna Wiens (UMichigan).\n",
    "\n",
    "# python libraries\n",
    "import os\n",
    "\n",
    "# numpy libraries\n",
    "import numpy as np\n",
    "\n",
    "# matplotlib libraries\n",
    "import matplotlib.pyplot as plt\n",
    "\n",
    "######################################################################\n",
    "# classes\n",
    "######################################################################\n",
    "\n",
    "class Data :\n",
    "    \n",
    "    def __init__(self, X=None, y=None) :\n",
    "        \"\"\"\n",
    "        Data class.\n",
    "        \n",
    "        Attributes\n",
    "        --------------------\n",
    "            X       -- numpy array of shape (n,d), features\n",
    "            y       -- numpy array of shape (n,), targets\n",
    "        \"\"\"\n",
    "        \n",
    "        # n = number of examples, d = dimensionality\n",
    "        self.X = X\n",
    "        self.y = y\n",
    "    \n",
    "    def load(self, filename) :\n",
    "        \"\"\"\n",
    "        Load csv file into X array of features and y array of labels.\n",
    "        \n",
    "        Parameters\n",
    "        --------------------\n",
    "            filename -- string, filename\n",
    "        \"\"\"\n",
    "        \n",
    "        # determine filename\n",
    "        dir = os.path.dirname('__file__')\n",
    "        f = os.path.join('./',filename)\n",
    "        \n",
    "        # load data\n",
    "        with open(f, 'r') as fid :\n",
    "            data = np.loadtxt(fid, delimiter=\",\")\n",
    "        \n",
    "        # separate features and labels\n",
    "        self.X = data[:,:-1]\n",
    "        self.y = data[:,-1]\n",
    "    \n",
    "    def plot(self, **kwargs) :\n",
    "        \"\"\"Plot data.\"\"\"\n",
    "        \n",
    "        if 'color' not in kwargs :\n",
    "            kwargs['color'] = 'b'\n",
    "        \n",
    "        plt.scatter(self.X, self.y, **kwargs)\n",
    "        plt.xlabel('x', fontsize = 16)\n",
    "        plt.ylabel('y', fontsize = 16)\n",
    "        plt.title('Testing Data')\n",
    "        plt.savefig('p2_4a_2.jpg')\n",
    "        plt.close()\n",
    "\n",
    "\n",
    "\n",
    "\n",
    "\n"
   ]
  },
  {
   "cell_type": "code",
   "execution_count": 97,
   "metadata": {
    "collapsed": false
   },
   "outputs": [
    {
     "name": "stdout",
     "output_type": "stream",
     "text": [
      "Visualizing data...\n",
      "Investigating linear regression...\n",
      "Investigating polynomial regression...\n",
      "1\n",
      "2\n",
      "3\n",
      "4\n",
      "5\n",
      "6\n",
      "7\n",
      "8\n",
      "9\n",
      "10\n",
      "Investigating regularized regression...\n",
      "Done!\n"
     ]
    },
    {
     "data": {
      "image/png": "[encoded data removed]",
      "text/plain": [
       "<matplotlib.figure.Figure at 0x115d21f60>"
      ]
     },
     "metadata": {},
     "output_type": "display_data"
    }
   ],
   "source": [
    "######################################################################\n",
    "# main\n",
    "######################################################################\n",
    "\n",
    "def main() :\n",
    "    # load data\n",
    "    train_data = load_data('regression_train.csv')\n",
    "    test_data = load_data('regression_test.csv')\n",
    "    \n",
    "    \n",
    "    ### ========== TODO : START ========== ###\n",
    "    # part a: main code for visualizations\n",
    "    print('Visualizing data...')\n",
    "    #plot_data(train_data.X, train_data.y)\n",
    "    #plot_data(test_data.X, test_data.y)\n",
    "    \n",
    "    ### ========== TODO : END ========== ###\n",
    "    \n",
    "    \n",
    "    \n",
    "    ### ========== TODO : START ========== ###\n",
    "    # parts b-f: main code for linear regression\n",
    "    print('Investigating linear regression...')\n",
    "    \n",
    "    \n",
    "    #print(train_data.X.shape)\n",
    "    #model = PolynomialRegression()\n",
    "    #model.coef_ = np.zeros(2)\n",
    "    #model.predict(train_data.X)\n",
    "    #model.fit_GD(train_data.X, train_data.y)\n",
    "    #model.fit(train_data.X, train_data.y)\n",
    "    #print(model.cost(train_data.X, train_data.y))\n",
    "    ### ========== TODO : END ========== ###\n",
    "    \n",
    "    \n",
    "    \n",
    "    ### ========== TODO : START ========== ###\n",
    "    # parts g-i: main code for polynomial regression\n",
    "    rmse_train = [0]*10\n",
    "    rmse_test = [0]*10\n",
    "\n",
    "    print('Investigating polynomial regression...')\n",
    "    for i in range(1,11):\n",
    "        print(i)\n",
    "        model = PolynomialRegression(i)\n",
    "        model.coef_ = np.zeros(i+1)\n",
    "        model.predict(train_data.X)\n",
    "        model.fit(train_data.X, train_data.y)\n",
    "        rmse_train[i-1] = model.rms_error(train_data.X, train_data.y)\n",
    "        rmse_test[i-1] = model.rms_error(test_data.X, test_data.y)\n",
    "    ### ========== TODO : END ========== ###\n",
    "    \n",
    "    m = range(1,11)\n",
    "    plt.figure()\n",
    "    plt.plot(m,rmse_train, 'r',label='Training Error')\n",
    "    plt.plot(m,rmse_test, '-',label='Testing Error')\n",
    "    plt.xlabel('Polynomial Degree')\n",
    "    plt.ylabel('RMSE Error')\n",
    "    plt.legend(loc=2)\n",
    "    #plt.savefig('p2_4i.jpg')\n",
    "    #plt.close()\n",
    "    #plt.show()\n",
    "    \n",
    "    ### ========== TODO : START ========== ###\n",
    "    # parts j-k (extra credit): main code for regularized regression\n",
    "    print('Investigating regularized regression...')\n",
    "        \n",
    "    ### ========== TODO : END ========== ###\n",
    "    \n",
    "    \n",
    "    print(\"Done!\")\n",
    "\n",
    "if __name__ == \"__main__\" :\n",
    "    main()\n"
   ]
  },
  {
   "cell_type": "code",
   "execution_count": 88,
   "metadata": {
    "collapsed": true
   },
   "outputs": [],
   "source": [
    "import math\n",
    "class PolynomialRegression() :\n",
    "    \n",
    "    def __init__(self, m=1, reg_param=0) :\n",
    "        \"\"\"\n",
    "        Ordinary least squares regression.\n",
    "        \n",
    "        Attributes\n",
    "        --------------------\n",
    "            coef_   -- numpy array of shape (d,)\n",
    "                       estimated coefficients for the linear regression problem\n",
    "            m_      -- integer\n",
    "                       order for polynomial regression\n",
    "            lambda_ -- float\n",
    "                       regularization parameter\n",
    "        \"\"\"\n",
    "        self.coef_ = None\n",
    "        self.m_ = m\n",
    "        self.lambda_ = reg_param\n",
    "    \n",
    "    \n",
    "    def generate_polynomial_features(self, X) :\n",
    "        \"\"\"\n",
    "        Maps X to an mth degree feature vector e.g. [1, X, X^2, ..., X^m].\n",
    "        \n",
    "        Parameters\n",
    "        --------------------\n",
    "            X       -- numpy array of shape (n,1), features\n",
    "        \n",
    "        Returns\n",
    "        --------------------\n",
    "            Phi     -- numpy array of shape (n,(m+1)), mapped features\n",
    "        \"\"\"\n",
    "        \n",
    "        n,d = X.shape\n",
    "        \n",
    "        ### ========== TODO : START ========== ###\n",
    "        # part b: modify to create matrix for simple linear model\n",
    "        # part g: modify to create matrix for polynomial model\n",
    "        m = self.m_\n",
    "        exponents = np.arange(0, m+1)\n",
    "        Phi = np.power(X, exponents)\n",
    "          \n",
    "        ### ========== TODO : END ========== ###\n",
    "        \n",
    "        return Phi\n",
    "    \n",
    "    \n",
    "    def fit_GD(self, X, y, eta=None,\n",
    "                eps=0, tmax=10000, verbose=False) :\n",
    "        \"\"\"\n",
    "        Finds the coefficients of a {d-1}^th degree polynomial\n",
    "        that fits the data using least squares batch gradient descent.\n",
    "        \n",
    "        Parameters\n",
    "        --------------------\n",
    "            X       -- numpy array of shape (n,d), features\n",
    "            y       -- numpy array of shape (n,), targets\n",
    "            eta     -- float, step size\n",
    "            eps     -- float, convergence criterion\n",
    "            tmax    -- integer, maximum number of iterations\n",
    "            verbose -- boolean, for debugging purposes\n",
    "        \n",
    "        Returns\n",
    "        --------------------\n",
    "            self    -- an instance of self\n",
    "        \"\"\"\n",
    "        if self.lambda_ != 0 :\n",
    "            raise Exception(\"GD with regularization not implemented\")\n",
    "        \n",
    "        if verbose :\n",
    "            plt.subplot(1, 2, 2)\n",
    "            plt.xlabel('iteration')\n",
    "            plt.ylabel(r'$J(\\theta)$')\n",
    "            plt.ion()\n",
    "            plt.show()\n",
    "        \n",
    "        X = self.generate_polynomial_features(X) # map features\n",
    "        n,d = X.shape\n",
    "        eta_input = eta\n",
    "        self.coef_ = np.zeros(d)                 # coefficients\n",
    "        err_list  = np.zeros((tmax,1))           # errors per iteration\n",
    "        \n",
    "        # GD loop\n",
    "        for t in range(tmax) :\n",
    "            ### ========== TODO : START ========== ###\n",
    "            # part f: update step size\n",
    "            # change the default eta in the function signature to 'eta=None'\n",
    "            # and update the line below to your learning rate function\n",
    "            if eta_input is None :\n",
    "                eta = 1/(1+t) # change this line\n",
    "            else :\n",
    "                eta = eta_input\n",
    "            ### ========== TODO : END ========== ###\n",
    "                \n",
    "            ### ========== TODO : START ========== ###\n",
    "            # part d: update theta (self.coef_) using one step of GD\n",
    "            # hint: you can write simultaneously update all theta using vector math\n",
    "                \n",
    "            # track error\n",
    "            # hint: you cannot use self.predict(...) to make the predictions\n",
    "            y_pred = self.predict(X)# change this line\n",
    "            err_list[t] = np.sum(np.power(y - y_pred, 2)) / float(n)\n",
    "            loss = y_pred - y\n",
    "            self.coef_  = self.coef_ - eta*np.dot(X.transpose(), loss)\n",
    "            ### ========== TODO : END ========== ###\n",
    "            \n",
    "            # stop?\n",
    "            if t > 0 and abs(err_list[t] - err_list[t-1]) <= eps :\n",
    "                break\n",
    "            \n",
    "            # debugging\n",
    "            if verbose :\n",
    "                x = np.reshape(X[:,1], (n,1))\n",
    "                cost = self.cost(x,y)\n",
    "                plt.subplot(1, 2, 1)\n",
    "                plt.cla()\n",
    "                plot_data(x, y)\n",
    "                self.plot_regression()\n",
    "                plt.subplot(1, 2, 2)\n",
    "                plt.plot([t+1], [cost], 'bo')\n",
    "                plt.suptitle('iteration: %d, cost: %f' % (t+1, cost))\n",
    "                plt.draw()\n",
    "                plt.pause(0.05) # pause for 0.05 sec\n",
    "        \n",
    "        print('number of iterations: %d' % (t+1))\n",
    "        \n",
    "        return self\n",
    "    \n",
    "    \n",
    "    def fit(self, X, y, l2regularize = None ) :\n",
    "        \"\"\"\n",
    "        Finds the coefficients of a {d-1}^th degree polynomial\n",
    "        that fits the data using the closed form solution.\n",
    "        \n",
    "        Parameters\n",
    "        --------------------\n",
    "            X       -- numpy array of shape (n,d), features\n",
    "            y       -- numpy array of shape (n,), targets\n",
    "            l2regularize    -- set to None for no regularization. set to positive double for L2 regularization\n",
    "                \n",
    "        Returns\n",
    "        --------------------        \n",
    "            self    -- an instance of self\n",
    "        \"\"\"\n",
    "        \n",
    "        X = self.generate_polynomial_features(X) # map features\n",
    "        \n",
    "        ### ========== TODO : START ========== ###\n",
    "        # part e: implement closed-form solution\n",
    "        # hint: use np.dot(...) and np.linalg.pinv(...)\n",
    "        #       be sure to update self.coef_ with your solution\n",
    "        inv = np.linalg.pinv(np.dot(X.transpose(), X))\n",
    "        \n",
    "        self.coef_ = np.dot(np.dot(inv, X.transpose()), y)\n",
    "        return self\n",
    "        \n",
    "        ### ========== TODO : END ========== ###\n",
    "    \n",
    "    \n",
    "    def predict(self, X) :\n",
    "        \"\"\"\n",
    "        Predict output for X.\n",
    "        \n",
    "        Parameters\n",
    "        --------------------\n",
    "            X       -- numpy array of shape (n,d), features\n",
    "        \n",
    "        Returns\n",
    "        --------------------\n",
    "            y       -- numpy array of shape (n,), predictions\n",
    "        \"\"\"\n",
    "        if self.coef_ is None :\n",
    "            raise Exception(\"Model not initialized. Perform a fit first.\")\n",
    "        \n",
    "        X = self.generate_polynomial_features(X) # map features\n",
    "        \n",
    "        ### ========== TODO : START ========== ###\n",
    "        # part c: predict y\n",
    "        y = np.dot(X,self.coef_)\n",
    "        ### ========== TODO : END ========== ###\n",
    "        \n",
    "        return y\n",
    "    \n",
    "    \n",
    "    def cost(self, X, y) :\n",
    "        \"\"\"\n",
    "        Calculates the objective function.\n",
    "        \n",
    "        Parameters\n",
    "        --------------------\n",
    "            X       -- numpy array of shape (n,d), features\n",
    "            y       -- numpy array of shape (n,), targets\n",
    "        \n",
    "        Returns\n",
    "        --------------------\n",
    "            cost    -- float, objective J(theta)\n",
    "        \"\"\"\n",
    "        ### ========== TODO : START ========== ###\n",
    "        # part d: compute J(theta)\n",
    "        n, d = X.shape\n",
    "        cost = 0\n",
    "        \n",
    "        y_pred = self.predict(X)\n",
    "        cost = np.sum(np.power(y - y_pred, 2))\n",
    "        #for i in range(1, n+1):\n",
    "            #cost += (y_pred - y[i-1])^2\n",
    "        ### ========== TODO : END ========== ###\n",
    "        return cost\n",
    "    \n",
    "    \n",
    "    def rms_error(self, X, y) :\n",
    "        \"\"\"\n",
    "        Calculates the root mean square error.\n",
    "        \n",
    "        Parameters\n",
    "        --------------------\n",
    "            X       -- numpy array of shape (n,d), features\n",
    "            y       -- numpy array of shape (n,), targets\n",
    "        \n",
    "        Returns\n",
    "        --------------------\n",
    "            error   -- float, RMSE\n",
    "        \"\"\"\n",
    "        ### ========== TODO : START ========== ###\n",
    "        # part h: compute RMSE\n",
    "        n, d = X.shape\n",
    "        error = math.sqrt(self.cost(X,y)/n)\n",
    "        ### ========== TODO : END ========== ###\n",
    "        return error\n",
    "    \n",
    "    \n",
    "    def plot_regression(self, xmin=0, xmax=1, n=50, **kwargs) :\n",
    "        \"\"\"Plot regression line.\"\"\"\n",
    "        if 'color' not in kwargs :\n",
    "            kwargs['color'] = 'r'\n",
    "        if 'linestyle' not in kwargs :\n",
    "            kwargs['linestyle'] = '-'\n",
    "        \n",
    "        X = np.reshape(np.linspace(0,1,n), (n,1))\n",
    "        y = self.predict(X)\n",
    "        plot_data(X, y, **kwargs)\n",
    "        plt.show()"
   ]
  },
  {
   "cell_type": "code",
   "execution_count": 3,
   "metadata": {
    "collapsed": true
   },
   "outputs": [],
   "source": [
    "# wrapper functions around Data class\n",
    "def load_data(filename) :\n",
    "    data = Data()\n",
    "    data.load(filename)\n",
    "    return data\n",
    "\n",
    "def plot_data(X, y, **kwargs) :\n",
    "    data = Data(X, y)\n",
    "    data.plot(**kwargs)"
   ]
  },
  {
   "cell_type": "code",
   "execution_count": 12,
   "metadata": {
    "collapsed": false
   },
   "outputs": [
    {
     "data": {
      "text/plain": [
       "'..'"
      ]
     },
     "execution_count": 12,
     "metadata": {},
     "output_type": "execute_result"
    }
   ],
   "source": [
    "os.path.join(os.path.dirname('__file__'), '..')"
   ]
  },
  {
   "cell_type": "code",
   "execution_count": 20,
   "metadata": {
    "collapsed": false
   },
   "outputs": [
    {
     "data": {
      "text/plain": [
       "array([1, 2, 3, 4, 5, 6])"
      ]
     },
     "execution_count": 20,
     "metadata": {},
     "output_type": "execute_result"
    }
   ],
   "source": [
    "np.arange(1,)\n"
   ]
  },
  {
   "cell_type": "code",
   "execution_count": 30,
   "metadata": {
    "collapsed": false
   },
   "outputs": [
    {
     "data": {
      "text/plain": [
       "array([[  1,   2,   4,   8,  16,  32],\n",
       "       [  1,   3,   9,  27,  81, 243]])"
      ]
     },
     "execution_count": 30,
     "metadata": {},
     "output_type": "execute_result"
    }
   ],
   "source": [
    "exponents = np.arange(0, 6)\n",
    "x2 = np.array([[2, 2, 2, 2, 2, 2], [3, 3, 3, 3, 3, 3]])\n",
    "np.power(x2, exponents)"
   ]
  },
  {
   "cell_type": "code",
   "execution_count": 30,
   "metadata": {
    "collapsed": false
   },
   "outputs": [
    {
     "data": {
      "text/plain": [
       "array([[ 1.],\n",
       "       [ 1.],\n",
       "       [ 1.]])"
      ]
     },
     "execution_count": 30,
     "metadata": {},
     "output_type": "execute_result"
    }
   ],
   "source": [
    "np.ones([3, 1])"
   ]
  },
  {
   "cell_type": "code",
   "execution_count": 26,
   "metadata": {
    "collapsed": false
   },
   "outputs": [
    {
     "data": {
      "text/plain": [
       "array([0, 1])"
      ]
     },
     "execution_count": 26,
     "metadata": {},
     "output_type": "execute_result"
    }
   ],
   "source": [
    "np.arange(0,2)"
   ]
  },
  {
   "cell_type": "code",
   "execution_count": 77,
   "metadata": {
    "collapsed": false
   },
   "outputs": [
    {
     "ename": "NameError",
     "evalue": "name 'sqrt' is not defined",
     "output_type": "error",
     "traceback": [
      "\u001b[0;31m---------------------------------------------------------------------------\u001b[0m",
      "\u001b[0;31mNameError\u001b[0m                                 Traceback (most recent call last)",
      "\u001b[0;32m<ipython-input-77-02de91c87109>\u001b[0m in \u001b[0;36m<module>\u001b[0;34m()\u001b[0m\n\u001b[0;32m----> 1\u001b[0;31m \u001b[0msqrt\u001b[0m\u001b[0;34m(\u001b[0m\u001b[0;36m100\u001b[0m\u001b[0;34m)\u001b[0m\u001b[0;34m\u001b[0m\u001b[0m\n\u001b[0m",
      "\u001b[0;31mNameError\u001b[0m: name 'sqrt' is not defined"
     ]
    }
   ],
   "source": [
    "sqrt(100)"
   ]
  },
  {
   "cell_type": "code",
   "execution_count": null,
   "metadata": {
    "collapsed": true
   },
   "outputs": [],
   "source": []
  }
 ],
 "metadata": {
  "kernelspec": {
   "display_name": "Python 3",
   "language": "python",
   "name": "python3"
  },
  "language_info": {
   "codemirror_mode": {
    "name": "ipython",
    "version": 3
   },
   "file_extension": ".py",
   "mimetype": "text/x-python",
   "name": "python",
   "nbconvert_exporter": "python",
   "pygments_lexer": "ipython3",
   "version": "3.6.0"
  }
 },
 "nbformat": 4,
 "nbformat_minor": 2
}
